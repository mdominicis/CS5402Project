{
 "cells": [
  {
   "cell_type": "markdown",
   "metadata": {},
   "source": [
    "Libraries"
   ]
  },
  {
   "cell_type": "code",
   "execution_count": 223,
   "metadata": {
    "colab": {
     "base_uri": "https://localhost:8080/"
    },
    "collapsed": true,
    "id": "Ht69R1PgsdM8",
    "outputId": "cf36a6d7-dd70-4444-88b1-f5240b1df3ec"
   },
   "outputs": [],
   "source": [
    "import os\n",
    "import pandas as pd\n",
    "import numpy as np\n",
    "import matplotlib.pyplot as plt\n",
    "from sklearn.model_selection import train_test_split\n",
    "from sklearn.preprocessing import PolynomialFeatures\n",
    "from sklearn.linear_model import LinearRegression\n",
    "from sklearn.metrics import mean_squared_error, r2_score\n",
    "from sklearn.cluster        import KMeans\n",
    "from sklearn.neural_network import MLPRegressor\n",
    "import kagglehub\n",
    "from kagglehub import KaggleDatasetAdapter\n",
    "from sklearn.model_selection import train_test_split\n",
    "from sklearn.preprocessing import StandardScaler\n",
    "from sklearn.impute import SimpleImputer\n",
    "from sklearn.tree import DecisionTreeRegressor"
   ]
  },
  {
   "cell_type": "markdown",
   "metadata": {},
   "source": [
    "Dataset Import"
   ]
  },
  {
   "cell_type": "code",
   "execution_count": 224,
   "metadata": {
    "colab": {
     "base_uri": "https://localhost:8080/"
    },
    "id": "ejZRtYz3HBRE",
    "outputId": "91f8051c-486a-42c6-f2de-bfa1a1c97913"
   },
   "outputs": [
    {
     "name": "stdout",
     "output_type": "stream",
     "text": [
      "First 5 records:    price    year manufacturer                 model  condition    cylinders  \\\n",
      "0  15000  2013.0         ford             f-150 xlt  excellent  6 cylinders   \n",
      "1  19900  2004.0         ford       f250 super duty       good  8 cylinders   \n",
      "2  14000  2012.0        honda               odyssey  excellent  6 cylinders   \n",
      "3  22500  2001.0         ford                  f450       good  8 cylinders   \n",
      "4  15000  2017.0        dodge  charger rt 4dr sedan  excellent  8 cylinders   \n",
      "\n",
      "     fuel  odometer title_status transmission drive       size      type  \\\n",
      "0     gas  128000.0        clean    automatic   rwd  full-size     truck   \n",
      "1  diesel   88000.0        clean    automatic   4wd  full-size    pickup   \n",
      "2     gas   95000.0        clean    automatic   fwd  full-size  mini-van   \n",
      "3  diesel  144700.0        clean       manual   rwd  full-size     truck   \n",
      "4     gas   90000.0      rebuilt    automatic   rwd   mid-size     sedan   \n",
      "\n",
      "  paint_color state  \n",
      "0       black    al  \n",
      "1        blue    al  \n",
      "2      silver    al  \n",
      "3       white    al  \n",
      "4        grey    al  \n"
     ]
    }
   ],
   "source": [
    "file_path = \"vehiclesclean.csv\"\n",
    "if os.path.isfile(file_path):\n",
    "    df = pd.read_csv(file_path)\n",
    "else:\n",
    "    df = kagglehub.load_dataset(\n",
    "      KaggleDatasetAdapter.PANDAS,\n",
    "      \"austinreese/craigslist-carstrucks-data\",\n",
    "      file_path\n",
    "    )\n",
    "\n",
    "print(\"First 5 records:\", df.head())"
   ]
  },
  {
   "cell_type": "markdown",
   "metadata": {},
   "source": [
    "Data Preprocessing"
   ]
  },
  {
   "cell_type": "code",
   "execution_count": null,
   "metadata": {
    "id": "BE88secND8yN"
   },
   "outputs": [
    {
     "ename": "KeyError",
     "evalue": "\"['id', 'region', 'url', 'region_url', 'VIN', 'image_url', 'description', 'county', 'lat', 'long', 'posting_date'] not found in axis\"",
     "output_type": "error",
     "traceback": [
      "\u001b[31m---------------------------------------------------------------------------\u001b[39m",
      "\u001b[31mKeyError\u001b[39m                                  Traceback (most recent call last)",
      "\u001b[36mCell\u001b[39m\u001b[36m \u001b[39m\u001b[32mIn[227]\u001b[39m\u001b[32m, line 1\u001b[39m\n\u001b[32m----> \u001b[39m\u001b[32m1\u001b[39m df = \u001b[43mdf\u001b[49m\u001b[43m.\u001b[49m\u001b[43mdrop\u001b[49m\u001b[43m(\u001b[49m\u001b[43mcolumns\u001b[49m\u001b[43m=\u001b[49m\u001b[43m[\u001b[49m\u001b[33;43m'\u001b[39;49m\u001b[33;43mid\u001b[39;49m\u001b[33;43m'\u001b[39;49m\u001b[43m,\u001b[49m\u001b[43m \u001b[49m\u001b[33;43m'\u001b[39;49m\u001b[33;43mregion\u001b[39;49m\u001b[33;43m'\u001b[39;49m\u001b[43m,\u001b[49m\u001b[43m \u001b[49m\u001b[33;43m'\u001b[39;49m\u001b[33;43murl\u001b[39;49m\u001b[33;43m'\u001b[39;49m\u001b[43m,\u001b[49m\u001b[43m \u001b[49m\u001b[33;43m'\u001b[39;49m\u001b[33;43mregion_url\u001b[39;49m\u001b[33;43m'\u001b[39;49m\u001b[43m,\u001b[49m\u001b[43m \u001b[49m\u001b[33;43m'\u001b[39;49m\u001b[33;43mVIN\u001b[39;49m\u001b[33;43m'\u001b[39;49m\u001b[43m,\u001b[49m\u001b[43m \u001b[49m\u001b[33;43m'\u001b[39;49m\u001b[33;43mimage_url\u001b[39;49m\u001b[33;43m'\u001b[39;49m\u001b[43m,\u001b[49m\u001b[43m \u001b[49m\u001b[33;43m'\u001b[39;49m\u001b[33;43mdescription\u001b[39;49m\u001b[33;43m'\u001b[39;49m\u001b[43m,\u001b[49m\u001b[43m \u001b[49m\u001b[33;43m'\u001b[39;49m\u001b[33;43mcounty\u001b[39;49m\u001b[33;43m'\u001b[39;49m\u001b[43m,\u001b[49m\u001b[43m \u001b[49m\u001b[33;43m'\u001b[39;49m\u001b[33;43mlat\u001b[39;49m\u001b[33;43m'\u001b[39;49m\u001b[43m,\u001b[49m\u001b[43m \u001b[49m\u001b[33;43m'\u001b[39;49m\u001b[33;43mlong\u001b[39;49m\u001b[33;43m'\u001b[39;49m\u001b[43m,\u001b[49m\u001b[43m \u001b[49m\u001b[33;43m'\u001b[39;49m\u001b[33;43mposting_date\u001b[39;49m\u001b[33;43m'\u001b[39;49m\u001b[43m]\u001b[49m\u001b[43m)\u001b[49m\n\u001b[32m      2\u001b[39m \u001b[38;5;66;03m# print(len(df)) 426880 rows before dropping\u001b[39;00m\n\u001b[32m      3\u001b[39m df = df.dropna()\n",
      "\u001b[36mFile \u001b[39m\u001b[32m~/Desktop/Programming/Classes/CS5402/CS5402Project/.venv/lib/python3.13/site-packages/pandas/core/frame.py:5581\u001b[39m, in \u001b[36mDataFrame.drop\u001b[39m\u001b[34m(self, labels, axis, index, columns, level, inplace, errors)\u001b[39m\n\u001b[32m   5433\u001b[39m \u001b[38;5;28;01mdef\u001b[39;00m\u001b[38;5;250m \u001b[39m\u001b[34mdrop\u001b[39m(\n\u001b[32m   5434\u001b[39m     \u001b[38;5;28mself\u001b[39m,\n\u001b[32m   5435\u001b[39m     labels: IndexLabel | \u001b[38;5;28;01mNone\u001b[39;00m = \u001b[38;5;28;01mNone\u001b[39;00m,\n\u001b[32m   (...)\u001b[39m\u001b[32m   5442\u001b[39m     errors: IgnoreRaise = \u001b[33m\"\u001b[39m\u001b[33mraise\u001b[39m\u001b[33m\"\u001b[39m,\n\u001b[32m   5443\u001b[39m ) -> DataFrame | \u001b[38;5;28;01mNone\u001b[39;00m:\n\u001b[32m   5444\u001b[39m \u001b[38;5;250m    \u001b[39m\u001b[33;03m\"\"\"\u001b[39;00m\n\u001b[32m   5445\u001b[39m \u001b[33;03m    Drop specified labels from rows or columns.\u001b[39;00m\n\u001b[32m   5446\u001b[39m \n\u001b[32m   (...)\u001b[39m\u001b[32m   5579\u001b[39m \u001b[33;03m            weight  1.0     0.8\u001b[39;00m\n\u001b[32m   5580\u001b[39m \u001b[33;03m    \"\"\"\u001b[39;00m\n\u001b[32m-> \u001b[39m\u001b[32m5581\u001b[39m     \u001b[38;5;28;01mreturn\u001b[39;00m \u001b[38;5;28;43msuper\u001b[39;49m\u001b[43m(\u001b[49m\u001b[43m)\u001b[49m\u001b[43m.\u001b[49m\u001b[43mdrop\u001b[49m\u001b[43m(\u001b[49m\n\u001b[32m   5582\u001b[39m \u001b[43m        \u001b[49m\u001b[43mlabels\u001b[49m\u001b[43m=\u001b[49m\u001b[43mlabels\u001b[49m\u001b[43m,\u001b[49m\n\u001b[32m   5583\u001b[39m \u001b[43m        \u001b[49m\u001b[43maxis\u001b[49m\u001b[43m=\u001b[49m\u001b[43maxis\u001b[49m\u001b[43m,\u001b[49m\n\u001b[32m   5584\u001b[39m \u001b[43m        \u001b[49m\u001b[43mindex\u001b[49m\u001b[43m=\u001b[49m\u001b[43mindex\u001b[49m\u001b[43m,\u001b[49m\n\u001b[32m   5585\u001b[39m \u001b[43m        \u001b[49m\u001b[43mcolumns\u001b[49m\u001b[43m=\u001b[49m\u001b[43mcolumns\u001b[49m\u001b[43m,\u001b[49m\n\u001b[32m   5586\u001b[39m \u001b[43m        \u001b[49m\u001b[43mlevel\u001b[49m\u001b[43m=\u001b[49m\u001b[43mlevel\u001b[49m\u001b[43m,\u001b[49m\n\u001b[32m   5587\u001b[39m \u001b[43m        \u001b[49m\u001b[43minplace\u001b[49m\u001b[43m=\u001b[49m\u001b[43minplace\u001b[49m\u001b[43m,\u001b[49m\n\u001b[32m   5588\u001b[39m \u001b[43m        \u001b[49m\u001b[43merrors\u001b[49m\u001b[43m=\u001b[49m\u001b[43merrors\u001b[49m\u001b[43m,\u001b[49m\n\u001b[32m   5589\u001b[39m \u001b[43m    \u001b[49m\u001b[43m)\u001b[49m\n",
      "\u001b[36mFile \u001b[39m\u001b[32m~/Desktop/Programming/Classes/CS5402/CS5402Project/.venv/lib/python3.13/site-packages/pandas/core/generic.py:4788\u001b[39m, in \u001b[36mNDFrame.drop\u001b[39m\u001b[34m(self, labels, axis, index, columns, level, inplace, errors)\u001b[39m\n\u001b[32m   4786\u001b[39m \u001b[38;5;28;01mfor\u001b[39;00m axis, labels \u001b[38;5;129;01min\u001b[39;00m axes.items():\n\u001b[32m   4787\u001b[39m     \u001b[38;5;28;01mif\u001b[39;00m labels \u001b[38;5;129;01mis\u001b[39;00m \u001b[38;5;129;01mnot\u001b[39;00m \u001b[38;5;28;01mNone\u001b[39;00m:\n\u001b[32m-> \u001b[39m\u001b[32m4788\u001b[39m         obj = \u001b[43mobj\u001b[49m\u001b[43m.\u001b[49m\u001b[43m_drop_axis\u001b[49m\u001b[43m(\u001b[49m\u001b[43mlabels\u001b[49m\u001b[43m,\u001b[49m\u001b[43m \u001b[49m\u001b[43maxis\u001b[49m\u001b[43m,\u001b[49m\u001b[43m \u001b[49m\u001b[43mlevel\u001b[49m\u001b[43m=\u001b[49m\u001b[43mlevel\u001b[49m\u001b[43m,\u001b[49m\u001b[43m \u001b[49m\u001b[43merrors\u001b[49m\u001b[43m=\u001b[49m\u001b[43merrors\u001b[49m\u001b[43m)\u001b[49m\n\u001b[32m   4790\u001b[39m \u001b[38;5;28;01mif\u001b[39;00m inplace:\n\u001b[32m   4791\u001b[39m     \u001b[38;5;28mself\u001b[39m._update_inplace(obj)\n",
      "\u001b[36mFile \u001b[39m\u001b[32m~/Desktop/Programming/Classes/CS5402/CS5402Project/.venv/lib/python3.13/site-packages/pandas/core/generic.py:4830\u001b[39m, in \u001b[36mNDFrame._drop_axis\u001b[39m\u001b[34m(self, labels, axis, level, errors, only_slice)\u001b[39m\n\u001b[32m   4828\u001b[39m         new_axis = axis.drop(labels, level=level, errors=errors)\n\u001b[32m   4829\u001b[39m     \u001b[38;5;28;01melse\u001b[39;00m:\n\u001b[32m-> \u001b[39m\u001b[32m4830\u001b[39m         new_axis = \u001b[43maxis\u001b[49m\u001b[43m.\u001b[49m\u001b[43mdrop\u001b[49m\u001b[43m(\u001b[49m\u001b[43mlabels\u001b[49m\u001b[43m,\u001b[49m\u001b[43m \u001b[49m\u001b[43merrors\u001b[49m\u001b[43m=\u001b[49m\u001b[43merrors\u001b[49m\u001b[43m)\u001b[49m\n\u001b[32m   4831\u001b[39m     indexer = axis.get_indexer(new_axis)\n\u001b[32m   4833\u001b[39m \u001b[38;5;66;03m# Case for non-unique axis\u001b[39;00m\n\u001b[32m   4834\u001b[39m \u001b[38;5;28;01melse\u001b[39;00m:\n",
      "\u001b[36mFile \u001b[39m\u001b[32m~/Desktop/Programming/Classes/CS5402/CS5402Project/.venv/lib/python3.13/site-packages/pandas/core/indexes/base.py:7070\u001b[39m, in \u001b[36mIndex.drop\u001b[39m\u001b[34m(self, labels, errors)\u001b[39m\n\u001b[32m   7068\u001b[39m \u001b[38;5;28;01mif\u001b[39;00m mask.any():\n\u001b[32m   7069\u001b[39m     \u001b[38;5;28;01mif\u001b[39;00m errors != \u001b[33m\"\u001b[39m\u001b[33mignore\u001b[39m\u001b[33m\"\u001b[39m:\n\u001b[32m-> \u001b[39m\u001b[32m7070\u001b[39m         \u001b[38;5;28;01mraise\u001b[39;00m \u001b[38;5;167;01mKeyError\u001b[39;00m(\u001b[33mf\u001b[39m\u001b[33m\"\u001b[39m\u001b[38;5;132;01m{\u001b[39;00mlabels[mask].tolist()\u001b[38;5;132;01m}\u001b[39;00m\u001b[33m not found in axis\u001b[39m\u001b[33m\"\u001b[39m)\n\u001b[32m   7071\u001b[39m     indexer = indexer[~mask]\n\u001b[32m   7072\u001b[39m \u001b[38;5;28;01mreturn\u001b[39;00m \u001b[38;5;28mself\u001b[39m.delete(indexer)\n",
      "\u001b[31mKeyError\u001b[39m: \"['id', 'region', 'url', 'region_url', 'VIN', 'image_url', 'description', 'county', 'lat', 'long', 'posting_date'] not found in axis\""
     ]
    }
   ],
   "source": [
    "# uncomment if vehiclesclean.csv not found\n",
    "# df = df.drop(columns=['id', 'region', 'url', 'region_url', 'VIN', 'image_url', 'description', 'county', 'lat', 'long', 'posting_date'])\n",
    "# print(len(df)) 426880 rows before dropping\n",
    "df = df.dropna()\n",
    "# print(len(df)) 79195 after dropping\n",
    "\n",
    "df = df[df['cylinders'] != \"other\"] # Need to be careful with this, may change in future, removing a lot of rows\n",
    "df['cylinders'] = df['cylinders'].str[0].astype(int)\n",
    "print(df.dtypes)\n",
    "df.head()"
   ]
  },
  {
   "cell_type": "markdown",
   "metadata": {},
   "source": [
    "Feature Engineering"
   ]
  },
  {
   "cell_type": "code",
   "execution_count": null,
   "metadata": {},
   "outputs": [
    {
     "data": {
      "text/html": [
       "<div>\n",
       "<style scoped>\n",
       "    .dataframe tbody tr th:only-of-type {\n",
       "        vertical-align: middle;\n",
       "    }\n",
       "\n",
       "    .dataframe tbody tr th {\n",
       "        vertical-align: top;\n",
       "    }\n",
       "\n",
       "    .dataframe thead th {\n",
       "        text-align: right;\n",
       "    }\n",
       "</style>\n",
       "<table border=\"1\" class=\"dataframe\">\n",
       "  <thead>\n",
       "    <tr style=\"text-align: right;\">\n",
       "      <th></th>\n",
       "      <th>price</th>\n",
       "      <th>year</th>\n",
       "      <th>manufacturer</th>\n",
       "      <th>model</th>\n",
       "      <th>condition</th>\n",
       "      <th>cylinders</th>\n",
       "      <th>fuel</th>\n",
       "      <th>odometer</th>\n",
       "      <th>title_status</th>\n",
       "      <th>transmission</th>\n",
       "      <th>drive</th>\n",
       "      <th>size</th>\n",
       "      <th>type</th>\n",
       "      <th>paint_color</th>\n",
       "      <th>state</th>\n",
       "      <th>sizes_rank</th>\n",
       "      <th>condition_rank</th>\n",
       "      <th>description</th>\n",
       "    </tr>\n",
       "  </thead>\n",
       "  <tbody>\n",
       "    <tr>\n",
       "      <th>31</th>\n",
       "      <td>15000</td>\n",
       "      <td>2013.0</td>\n",
       "      <td>ford</td>\n",
       "      <td>f-150 xlt</td>\n",
       "      <td>excellent</td>\n",
       "      <td>6</td>\n",
       "      <td>gas</td>\n",
       "      <td>128000.0</td>\n",
       "      <td>clean</td>\n",
       "      <td>automatic</td>\n",
       "      <td>rwd</td>\n",
       "      <td>full-size</td>\n",
       "      <td>truck</td>\n",
       "      <td>black</td>\n",
       "      <td>al</td>\n",
       "      <td>4</td>\n",
       "      <td>4</td>\n",
       "      <td>This is a used 2013 ford f-150 xlt with 6 cyli...</td>\n",
       "    </tr>\n",
       "    <tr>\n",
       "      <th>55</th>\n",
       "      <td>19900</td>\n",
       "      <td>2004.0</td>\n",
       "      <td>ford</td>\n",
       "      <td>f250 super duty</td>\n",
       "      <td>good</td>\n",
       "      <td>8</td>\n",
       "      <td>diesel</td>\n",
       "      <td>88000.0</td>\n",
       "      <td>clean</td>\n",
       "      <td>automatic</td>\n",
       "      <td>4wd</td>\n",
       "      <td>full-size</td>\n",
       "      <td>pickup</td>\n",
       "      <td>blue</td>\n",
       "      <td>al</td>\n",
       "      <td>4</td>\n",
       "      <td>3</td>\n",
       "      <td>This is a used 2004 ford f250 super duty with ...</td>\n",
       "    </tr>\n",
       "    <tr>\n",
       "      <th>59</th>\n",
       "      <td>14000</td>\n",
       "      <td>2012.0</td>\n",
       "      <td>honda</td>\n",
       "      <td>odyssey</td>\n",
       "      <td>excellent</td>\n",
       "      <td>6</td>\n",
       "      <td>gas</td>\n",
       "      <td>95000.0</td>\n",
       "      <td>clean</td>\n",
       "      <td>automatic</td>\n",
       "      <td>fwd</td>\n",
       "      <td>full-size</td>\n",
       "      <td>mini-van</td>\n",
       "      <td>silver</td>\n",
       "      <td>al</td>\n",
       "      <td>4</td>\n",
       "      <td>4</td>\n",
       "      <td>This is a used 2012 honda odyssey with 6 cylin...</td>\n",
       "    </tr>\n",
       "    <tr>\n",
       "      <th>65</th>\n",
       "      <td>22500</td>\n",
       "      <td>2001.0</td>\n",
       "      <td>ford</td>\n",
       "      <td>f450</td>\n",
       "      <td>good</td>\n",
       "      <td>8</td>\n",
       "      <td>diesel</td>\n",
       "      <td>144700.0</td>\n",
       "      <td>clean</td>\n",
       "      <td>manual</td>\n",
       "      <td>rwd</td>\n",
       "      <td>full-size</td>\n",
       "      <td>truck</td>\n",
       "      <td>white</td>\n",
       "      <td>al</td>\n",
       "      <td>4</td>\n",
       "      <td>3</td>\n",
       "      <td>This is a used 2001 ford f450 with 8 cylinders</td>\n",
       "    </tr>\n",
       "    <tr>\n",
       "      <th>73</th>\n",
       "      <td>15000</td>\n",
       "      <td>2017.0</td>\n",
       "      <td>dodge</td>\n",
       "      <td>charger rt 4dr sedan</td>\n",
       "      <td>excellent</td>\n",
       "      <td>8</td>\n",
       "      <td>gas</td>\n",
       "      <td>90000.0</td>\n",
       "      <td>rebuilt</td>\n",
       "      <td>automatic</td>\n",
       "      <td>rwd</td>\n",
       "      <td>mid-size</td>\n",
       "      <td>sedan</td>\n",
       "      <td>grey</td>\n",
       "      <td>al</td>\n",
       "      <td>3</td>\n",
       "      <td>4</td>\n",
       "      <td>This is a used 2017 dodge charger rt 4dr sedan...</td>\n",
       "    </tr>\n",
       "  </tbody>\n",
       "</table>\n",
       "</div>"
      ],
      "text/plain": [
       "    price    year manufacturer                 model  condition  cylinders  \\\n",
       "31  15000  2013.0         ford             f-150 xlt  excellent          6   \n",
       "55  19900  2004.0         ford       f250 super duty       good          8   \n",
       "59  14000  2012.0        honda               odyssey  excellent          6   \n",
       "65  22500  2001.0         ford                  f450       good          8   \n",
       "73  15000  2017.0        dodge  charger rt 4dr sedan  excellent          8   \n",
       "\n",
       "      fuel  odometer title_status transmission drive       size      type  \\\n",
       "31     gas  128000.0        clean    automatic   rwd  full-size     truck   \n",
       "55  diesel   88000.0        clean    automatic   4wd  full-size    pickup   \n",
       "59     gas   95000.0        clean    automatic   fwd  full-size  mini-van   \n",
       "65  diesel  144700.0        clean       manual   rwd  full-size     truck   \n",
       "73     gas   90000.0      rebuilt    automatic   rwd   mid-size     sedan   \n",
       "\n",
       "   paint_color state  sizes_rank  condition_rank  \\\n",
       "31       black    al           4               4   \n",
       "55        blue    al           4               3   \n",
       "59      silver    al           4               4   \n",
       "65       white    al           4               3   \n",
       "73        grey    al           3               4   \n",
       "\n",
       "                                          description  \n",
       "31  This is a used 2013 ford f-150 xlt with 6 cyli...  \n",
       "55  This is a used 2004 ford f250 super duty with ...  \n",
       "59  This is a used 2012 honda odyssey with 6 cylin...  \n",
       "65     This is a used 2001 ford f450 with 8 cylinders  \n",
       "73  This is a used 2017 dodge charger rt 4dr sedan...  "
      ]
     },
     "execution_count": 208,
     "metadata": {},
     "output_type": "execute_result"
    }
   ],
   "source": [
    "size_map = {\n",
    "    'sub-compact': 1,\n",
    "    'compact':     2,\n",
    "    'mid-size':    3,\n",
    "    'full-size':   4\n",
    "}\n",
    "df['sizes_rank'] = df['size'].map(size_map)\n",
    "\n",
    "cond_map = {\n",
    "    'salvage':     1,\n",
    "    'fair':        2,\n",
    "    'good':        3,\n",
    "    'excellent':   4,\n",
    "    'like new':    5,\n",
    "    'new':         6\n",
    "}\n",
    "df['condition_rank'] = df['condition'].map(cond_map)\n",
    "\n",
    "# df = df.drop(columns=['size', 'condition'])\n",
    "\n",
    "def make_desc(row):\n",
    "    return f\"This is a used {int(row.year)} {row.manufacturer} {row.model} with {row.cylinders} cylinders\"\n",
    "\n",
    "df['description'] = df.apply(make_desc, axis=1)\n",
    "df.head()"
   ]
  },
  {
   "cell_type": "code",
   "execution_count": null,
   "metadata": {},
   "outputs": [],
   "source": [
    "data = df[['price', 'year', 'odometer', 'cylinders']].copy()\n",
    "X = data[['year', 'odometer', 'cylinders']]\n",
    "y = data['price']\n",
    "X_train, X_test, y_train, y_test = train_test_split(\n",
    "    X, y, test_size=0.2, random_state=42\n",
    ")"
   ]
  },
  {
   "cell_type": "markdown",
   "metadata": {
    "id": "yTT6v0amGwya"
   },
   "source": [
    "Matthew's Linear Regression"
   ]
  },
  {
   "cell_type": "code",
   "execution_count": null,
   "metadata": {
    "colab": {
     "base_uri": "https://localhost:8080/"
    },
    "id": "r50nxc7AGwiC",
    "outputId": "14c2e8ac-62fc-49b7-8b50-29ce3e425f18"
   },
   "outputs": [
    {
     "name": "stdout",
     "output_type": "stream",
     "text": [
      "R² score: -36.3422\n",
      "MSE:     17989342512.20\n",
      "Intercept: 96231.26553296599\n",
      "Coefs:     {'year': np.float64(-5741.428560185611), 'odometer': np.float64(6434.882238875661), 'cylinders': np.float64(104377.88308629108)}\n"
     ]
    }
   ],
   "source": [
    "scaler = StandardScaler()\n",
    "X_train_scaled = scaler.fit_transform(X_train)\n",
    "X_test_scaled  = scaler.transform(X_test)\n",
    "\n",
    "model = LinearRegression()\n",
    "model.fit(X_train_scaled, y_train)\n",
    "\n",
    "y_pred = model.predict(X_test_scaled)\n",
    "print(f\"R² score: {r2_score(y_test, y_pred):.4f}\")\n",
    "print(f\"MSE:     {mean_squared_error(y_test, y_pred):.2f}\")\n",
    "\n",
    "print(\"Intercept:\", model.intercept_)\n",
    "print(\"Coefs:    \", dict(zip(X.columns, model.coef_)))"
   ]
  },
  {
   "cell_type": "markdown",
   "metadata": {
    "id": "feNx_QTbHHyz"
   },
   "source": [
    "Logan's Polynomial Regression"
   ]
  },
  {
   "cell_type": "code",
   "execution_count": null,
   "metadata": {
    "colab": {
     "base_uri": "https://localhost:8080/",
     "height": 1000
    },
    "id": "oK3O7kIPOU3T",
    "outputId": "730d9891-642e-4029-b805-02c8cc8d476a"
   },
   "outputs": [
    {
     "name": "stdout",
     "output_type": "stream",
     "text": [
      "\n",
      "Polynomial feature names:\n",
      "['year' 'odometer' 'cylinders' 'year^2' 'year odometer' 'year cylinders'\n",
      " 'odometer^2' 'odometer cylinders' 'cylinders^2']\n",
      "\n",
      "Model coefficients:\n",
      "year: -0.0000\n",
      "odometer: 2.3233\n",
      "cylinders: 0.0135\n",
      "year^2: -0.1021\n",
      "year odometer: -0.0011\n",
      "year cylinders: 27.2025\n",
      "odometer^2: -0.0000\n",
      "odometer cylinders: 0.0544\n",
      "cylinders^2: 0.1554\n",
      "Intercept: 141521.8355\n",
      "\n",
      "Model Evaluation:\n",
      "Mean Squared Error (MSE): 19467101633.52\n",
      "Root Mean Squared Error (RMSE): 139524.56\n",
      "R-squared (R²): -39.4098\n"
     ]
    }
   ],
   "source": [
    "# valuable LABELS: price, year, manufacturer, model, condition, cylinders, fuel, odometer,\n",
    "#                  title_status, transmission, drive, size, type, paint_color, posting_date\n",
    "\n",
    "# for now, use only the numerical ones:\n",
    "#     price, year, cylinders, odometer\n",
    "\n",
    "\n",
    "# Create polynomial features (degree=2)\n",
    "poly = PolynomialFeatures(degree=2, include_bias=False)\n",
    "\n",
    "# Transform the features\n",
    "X_train_poly = poly.fit_transform(X_train)\n",
    "X_test_poly = poly.transform(X_test)\n",
    "\n",
    "# Display the new feature names\n",
    "feature_names = poly.get_feature_names_out(X.columns)\n",
    "print(\"\\nPolynomial feature names:\")\n",
    "print(feature_names)\n",
    "\n",
    "# Create and train the polynomial regression model\n",
    "poly_reg = LinearRegression()\n",
    "poly_reg.fit(X_train_poly, y_train)\n",
    "\n",
    "# Display the coefficients\n",
    "print(\"\\nModel coefficients:\")\n",
    "for i, coef in enumerate(poly_reg.coef_):\n",
    "    print(f\"{feature_names[i]}: {coef:.4f}\")\n",
    "print(f\"Intercept: {poly_reg.intercept_:.4f}\")\n",
    "\n",
    "# Make predictions on the test set\n",
    "y_pred = poly_reg.predict(X_test_poly)\n",
    "\n",
    "# Evaluate the model\n",
    "mse = mean_squared_error(y_test, y_pred)\n",
    "rmse = np.sqrt(mse)\n",
    "r2 = r2_score(y_test, y_pred)\n",
    "\n",
    "print(\"\\nModel Evaluation:\")\n",
    "print(f\"Mean Squared Error (MSE): {mse:.2f}\")\n",
    "print(f\"Root Mean Squared Error (RMSE): {rmse:.2f}\")\n",
    "print(f\"R-squared (R²): {r2:.4f}\")\n",
    "\n",
    "# Create a DataFrame with actual and predicted prices\n",
    "results = pd.DataFrame({\n",
    "    'Actual': y_test,\n",
    "    'Predicted': y_pred\n",
    "})\n",
    "\n",
    "# Sort by actual price for better visualization\n",
    "results = results.sort_values(by='Actual')\n",
    "\n",
    "# Reset index\n",
    "results = results.reset_index(drop=True)\n",
    "\n",
    "def predict_car_price(year, cylinders, mileage):\n",
    "    # Create a DataFrame with the new car's features\n",
    "    new_car = pd.DataFrame({\n",
    "        'year': [year],\n",
    "        'cylinders': [cylinders],\n",
    "        'odometer': [mileage]\n",
    "    })\n",
    "\n",
    "    # Transform the features to polynomial features\n",
    "    new_car_poly = poly.transform(new_car)\n",
    "\n",
    "    # Predict the price\n",
    "    predicted_price = poly_reg.predict(new_car_poly)[0]\n",
    "\n",
    "    return predicted_price\n"
   ]
  },
  {
   "cell_type": "markdown",
   "metadata": {
    "id": "b9nPDHtWF05v"
   },
   "source": [
    "Dheeraj's Decision Tree\n"
   ]
  },
  {
   "cell_type": "code",
   "execution_count": null,
   "metadata": {
    "id": "Xxk7eF_0F0JD",
    "jupyter": {
     "is_executing": true
    }
   },
   "outputs": [
    {
     "name": "stdout",
     "output_type": "stream",
     "text": [
      "Mean Squared Error: 4426296756561849.0\n",
      "R² Score: -9188092.64714874\n"
     ]
    }
   ],
   "source": [
    "model = DecisionTreeRegressor(random_state=42)\n",
    "model.fit(X_train, y_train)\n",
    "\n",
    "y_pred = model.predict(X_test)\n",
    "print(\"Mean Squared Error:\", mean_squared_error(y_test, y_pred))\n",
    "print(\"R² Score:\", r2_score(y_test, y_pred))"
   ]
  },
  {
   "cell_type": "markdown",
   "metadata": {
    "id": "ZrSjEjT1QHOz"
   },
   "source": [
    "Everett's Neural Network"
   ]
  },
  {
   "cell_type": "code",
   "execution_count": null,
   "metadata": {
    "id": "zYCoRK5xQOtN"
   },
   "outputs": [
    {
     "name": "stdout",
     "output_type": "stream",
     "text": [
      "\n",
      "Neural Network Evaluation:\n",
      "Mean Squared Error (MSE): 4758217931.32\n",
      "R-squared (R²): -8.8771\n"
     ]
    }
   ],
   "source": [
    "# Step 1: Apply K-Means clustering to the dataset\n",
    "kmeans = KMeans(n_clusters=5, random_state=42)  # Choose 5 clusters (can be adjusted)\n",
    "df['cluster'] = kmeans.fit_predict(X)  # Add cluster labels as a new feature\n",
    "\n",
    "nn_model = MLPRegressor(hidden_layer_sizes=(64, 32), max_iter=500, random_state=42)\n",
    "nn_model.fit(X_train, y_train)\n",
    "\n",
    "y_pred_nn = nn_model.predict(X_test)\n",
    "mse_nn = mean_squared_error(y_test, y_pred_nn)\n",
    "r2_nn = r2_score(y_test, y_pred_nn)\n",
    "\n",
    "print(\"\\nNeural Network Evaluation:\")\n",
    "print(f\"Mean Squared Error (MSE): {mse_nn:.2f}\")\n",
    "print(f\"R-squared (R²): {r2_nn:.4f}\")\n",
    "\n",
    "# Predict car price using the neural network\n",
    "def predict_price_nn(year, cylinders, mileage):\n",
    "    cluster = kmeans.predict([[year, cylinders, mileage]])[0]  # Predict cluster for the new car\n",
    "    new_car_nn = pd.DataFrame({\n",
    "        'year': [year],\n",
    "        'cylinders': [cylinders],\n",
    "        'odometer': [mileage],\n",
    "        'cluster': [cluster]\n",
    "    })\n",
    "    predicted_price_nn = nn_model.predict(new_car_nn)[0]\n",
    "    return predicted_price_nn\n",
    "\n",
    "# # Example usage\n",
    "# year = 2018\n",
    "# cylinders = 6\n",
    "# mileage = 85000\n",
    "# predicted_price_nn = predict_price_nn(year, cylinders, mileage)\n",
    "# print(f\"\\nPredicted price for a car with {mileage} miles, {cylinders} cylinders, from year {year}: ${predicted_price_nn:.2f}\")"
   ]
  },
  {
   "cell_type": "markdown",
   "metadata": {},
   "source": [
    "Plotting"
   ]
  },
  {
   "cell_type": "code",
   "execution_count": null,
   "metadata": {},
   "outputs": [],
   "source": [
    "# plt.figure(figsize=(10, 6))\n",
    "# plt.plot(results.index, results['Actual'], label='Actual Prices', color='blue', marker='o')\n",
    "# plt.plot(results.index, results['Predicted'], label='Predicted Prices', color='red', marker='x')\n",
    "# plt.title('Actual vs. Predicted Car Prices')\n",
    "# plt.xlabel('Index')\n",
    "# plt.ylabel('Price')\n",
    "# plt.legend()\n",
    "# plt.grid(True)\n",
    "\n",
    "# # Plot a scatter plot of actual vs. predicted prices\n",
    "# plt.figure(figsize=(10, 6))\n",
    "# plt.scatter(results['Actual'], results['Predicted'], alpha=0.5)\n",
    "# plt.plot([results['Actual'].min(), results['Actual'].max()],\n",
    "#          [results['Actual'].min(), results['Actual'].max()],\n",
    "#          'k--', lw=2)\n",
    "# plt.title('Actual vs. Predicted Car Prices')\n",
    "# plt.xlabel('Actual Prices')\n",
    "# plt.ylabel('Predicted Prices')\n",
    "# plt.grid(True)\n"
   ]
  }
 ],
 "metadata": {
  "colab": {
   "provenance": []
  },
  "kernelspec": {
   "display_name": ".venv",
   "language": "python",
   "name": "python3"
  },
  "language_info": {
   "codemirror_mode": {
    "name": "ipython",
    "version": 3
   },
   "file_extension": ".py",
   "mimetype": "text/x-python",
   "name": "python",
   "nbconvert_exporter": "python",
   "pygments_lexer": "ipython3",
   "version": "3.13.0"
  }
 },
 "nbformat": 4,
 "nbformat_minor": 0
}
