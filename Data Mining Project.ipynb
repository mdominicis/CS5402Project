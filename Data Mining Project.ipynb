{
 "cells": [
  {
   "cell_type": "markdown",
   "metadata": {},
   "source": [
    "Libraries"
   ]
  },
  {
   "cell_type": "code",
   "execution_count": null,
   "metadata": {
    "colab": {
     "base_uri": "https://localhost:8080/"
    },
    "id": "Ht69R1PgsdM8",
    "outputId": "cf36a6d7-dd70-4444-88b1-f5240b1df3ec"
   },
   "outputs": [],
   "source": [
    "import os\n",
    "import pandas as pd\n",
    "import numpy as np\n",
    "import matplotlib.pyplot as plt\n",
    "from sklearn.model_selection import train_test_split\n",
    "from sklearn.preprocessing import PolynomialFeatures\n",
    "from sklearn.linear_model import LinearRegression\n",
    "from sklearn.metrics import mean_squared_error, r2_score\n",
    "from sklearn.cluster        import KMeans\n",
    "from sklearn.neural_network import MLPRegressor\n",
    "import kagglehub\n",
    "from kagglehub import KaggleDatasetAdapter\n",
    "from sklearn.model_selection import train_test_split\n",
    "from sklearn.preprocessing import StandardScaler\n",
    "from sklearn.impute import SimpleImputer\n",
    "from sklearn.tree import DecisionTreeRegressor"
   ]
  },
  {
   "cell_type": "markdown",
   "metadata": {},
   "source": [
    "Dataset Import"
   ]
  },
  {
   "cell_type": "code",
   "execution_count": null,
   "metadata": {
    "colab": {
     "base_uri": "https://localhost:8080/"
    },
    "id": "ejZRtYz3HBRE",
    "outputId": "91f8051c-486a-42c6-f2de-bfa1a1c97913"
   },
   "outputs": [],
   "source": [
    "file_path = \"vehiclesclean.csv\"\n",
    "if os.path.isfile(file_path):\n",
    "    df = pd.read_csv(file_path)\n",
    "else:\n",
    "    df = kagglehub.load_dataset(\n",
    "      KaggleDatasetAdapter.PANDAS,\n",
    "      \"austinreese/craigslist-carstrucks-data\",\n",
    "      file_path\n",
    "    )"
   ]
  },
  {
   "cell_type": "markdown",
   "metadata": {},
   "source": [
    "Data Preprocessing"
   ]
  },
  {
   "cell_type": "code",
   "execution_count": null,
   "metadata": {
    "id": "BE88secND8yN"
   },
   "outputs": [],
   "source": [
    "# uncomment if vehiclesclean.csv not found\n",
    "# df = df.drop(columns=['id', 'region', 'url', 'region_url', 'VIN', 'image_url', 'description', 'county', 'lat', 'long', 'posting_date'])\n",
    "# print(len(df)) 426880 rows before dropping\n",
    "df = df.dropna()\n",
    "# print(len(df)) 79195 after dropping\n",
    "\n",
    "df = df[df['cylinders'] != \"other\"] # Need to be careful with this, may change in future, removing a lot of rows\n",
    "df['cylinders'] = df['cylinders'].str[0].astype(int)\n",
    "df.head()"
   ]
  },
  {
   "cell_type": "markdown",
   "metadata": {},
   "source": [
    "Feature Engineering"
   ]
  },
  {
   "cell_type": "code",
   "execution_count": null,
   "metadata": {},
   "outputs": [],
   "source": [
    "def make_desc(row):\n",
    "    return (\n",
    "        f\"This is a {row['condition']} {int(row['year'])} {row['manufacturer']} {row['model']}, \"\n",
    "        f\"a {row['size']} sized {row['type']} with a {int(row['cylinders'])}-cylinder {row['fuel']} engine, \"\n",
    "        f\"{row['transmission']} transmission, and {row['drive']} drive. \"\n",
    "        f\"It has {int(row['odometer']):,} miles, holds a {row['title_status']} title in {row['state']}, \"\n",
    "        f\"is painted {row['paint_color']}, predict its price.\"\n",
    "    )\n",
    "\n",
    "df['description'] = df.apply(make_desc, axis=1)\n",
    "\n",
    "size_map = {\n",
    "    'sub-compact': 1,\n",
    "    'compact':     2,\n",
    "    'mid-size':    3,\n",
    "    'full-size':   4\n",
    "}\n",
    "df['size'] = df['size'].map(size_map)\n",
    "\n",
    "cond_map = {\n",
    "    'salvage':     1,\n",
    "    'fair':        2,\n",
    "    'good':        3,\n",
    "    'excellent':   4,\n",
    "    'like new':    5,\n",
    "    'new':         6\n",
    "}\n",
    "df['condition'] = df['condition'].map(cond_map)\n",
    "\n",
    "df.head()"
   ]
  },
  {
   "cell_type": "code",
   "execution_count": null,
   "metadata": {},
   "outputs": [],
   "source": [
    "data = df[['price', 'year', 'odometer', 'cylinders']].copy()\n",
    "X = data[['year', 'odometer', 'cylinders']]\n",
    "y = data['price']\n",
    "X_train, X_test, y_train, y_test = train_test_split(\n",
    "    X, y, test_size=0.2, random_state=42\n",
    ")"
   ]
  },
  {
   "cell_type": "markdown",
   "metadata": {
    "id": "yTT6v0amGwya"
   },
   "source": [
    "Matthew's Linear Regression"
   ]
  },
  {
   "cell_type": "code",
   "execution_count": null,
   "metadata": {
    "colab": {
     "base_uri": "https://localhost:8080/"
    },
    "id": "r50nxc7AGwiC",
    "outputId": "14c2e8ac-62fc-49b7-8b50-29ce3e425f18"
   },
   "outputs": [],
   "source": [
    "scaler = StandardScaler()\n",
    "X_train_scaled = scaler.fit_transform(X_train)\n",
    "X_test_scaled  = scaler.transform(X_test)\n",
    "\n",
    "model = LinearRegression()\n",
    "model.fit(X_train_scaled, y_train)\n",
    "\n",
    "y_pred = model.predict(X_test_scaled)\n",
    "print(f\"R² score: {r2_score(y_test, y_pred):.4f}\")\n",
    "print(f\"MSE:     {mean_squared_error(y_test, y_pred):.2f}\")\n",
    "\n",
    "print(\"Intercept:\", model.intercept_)\n",
    "print(\"Coefs:    \", dict(zip(X.columns, model.coef_)))"
   ]
  },
  {
   "cell_type": "markdown",
   "metadata": {
    "id": "feNx_QTbHHyz"
   },
   "source": [
    "Logan's Polynomial Regression"
   ]
  },
  {
   "cell_type": "code",
   "execution_count": null,
   "metadata": {
    "colab": {
     "base_uri": "https://localhost:8080/",
     "height": 1000
    },
    "id": "oK3O7kIPOU3T",
    "outputId": "730d9891-642e-4029-b805-02c8cc8d476a"
   },
   "outputs": [],
   "source": [
    "# valuable LABELS: price, year, manufacturer, model, condition, cylinders, fuel, odometer,\n",
    "#                  title_status, transmission, drive, size, type, paint_color, posting_date\n",
    "\n",
    "# for now, use only the numerical ones:\n",
    "#     price, year, cylinders, odometer\n",
    "\n",
    "\n",
    "# Create polynomial features (degree=2)\n",
    "poly = PolynomialFeatures(degree=2, include_bias=False)\n",
    "\n",
    "# Transform the features\n",
    "X_train_poly = poly.fit_transform(X_train)\n",
    "X_test_poly = poly.transform(X_test)\n",
    "\n",
    "# Display the new feature names\n",
    "feature_names = poly.get_feature_names_out(X.columns)\n",
    "print(\"\\nPolynomial feature names:\")\n",
    "print(feature_names)   \n",
    "\n",
    "# Create and train the polynomial regression model\n",
    "poly_reg = LinearRegression()\n",
    "poly_reg.fit(X_train_poly, y_train)\n",
    "\n",
    "# Display the coefficients\n",
    "print(\"\\nModel coefficients:\")\n",
    "for i, coef in enumerate(poly_reg.coef_):\n",
    "    print(f\"{feature_names[i]}: {coef:.4f}\")\n",
    "print(f\"Intercept: {poly_reg.intercept_:.4f}\")\n",
    "\n",
    "# Make predictions on the test set\n",
    "y_pred = poly_reg.predict(X_test_poly)\n",
    "\n",
    "# Evaluate the model\n",
    "mse = mean_squared_error(y_test, y_pred)\n",
    "rmse = np.sqrt(mse)\n",
    "r2 = r2_score(y_test, y_pred)\n",
    "\n",
    "print(\"\\nModel Evaluation:\")\n",
    "print(f\"Mean Squared Error (MSE): {mse:.2f}\")\n",
    "print(f\"Root Mean Squared Error (RMSE): {rmse:.2f}\")\n",
    "print(f\"R-squared (R²): {r2:.4f}\")\n",
    "\n",
    "# Create a DataFrame with actual and predicted prices\n",
    "results = pd.DataFrame({\n",
    "    'Actual': y_test,\n",
    "    'Predicted': y_pred\n",
    "})\n",
    "\n",
    "# Sort by actual price for better visualization\n",
    "results = results.sort_values(by='Actual')\n",
    "\n",
    "# Reset index\n",
    "results = results.reset_index(drop=True)\n",
    "\n",
    "def predict_car_price(year, cylinders, mileage):\n",
    "    # Create a DataFrame with the new car's features\n",
    "    new_car = pd.DataFrame({\n",
    "        'year': [year],\n",
    "        'cylinders': [cylinders],\n",
    "        'odometer': [mileage]\n",
    "    })\n",
    "\n",
    "    # Transform the features to polynomial features\n",
    "    new_car_poly = poly.transform(new_car)\n",
    "\n",
    "    # Predict the price\n",
    "    predicted_price = poly_reg.predict(new_car_poly)[0]\n",
    "\n",
    "    return predicted_price\n"
   ]
  },
  {
   "cell_type": "markdown",
   "metadata": {
    "id": "b9nPDHtWF05v"
   },
   "source": [
    "Dheeraj's Decision Tree\n"
   ]
  },
  {
   "cell_type": "code",
   "execution_count": null,
   "metadata": {
    "id": "Xxk7eF_0F0JD",
    "jupyter": {
     "is_executing": true
    }
   },
   "outputs": [],
   "source": [
    "model = DecisionTreeRegressor(random_state=42)\n",
    "model.fit(X_train, y_train)\n",
    "\n",
    "y_pred = model.predict(X_test)\n",
    "print(\"Mean Squared Error:\", mean_squared_error(y_test, y_pred))\n",
    "print(\"R² Score:\", r2_score(y_test, y_pred))"
   ]
  },
  {
   "cell_type": "markdown",
   "metadata": {
    "id": "ZrSjEjT1QHOz"
   },
   "source": [
    "Everett's Neural Network"
   ]
  },
  {
   "cell_type": "code",
   "execution_count": null,
   "metadata": {
    "id": "zYCoRK5xQOtN"
   },
   "outputs": [],
   "source": [
    "# Step 1: Apply K-Means clustering to the dataset\n",
    "kmeans = KMeans(n_clusters=5, random_state=42)  # Choose 5 clusters (can be adjusted)\n",
    "df['cluster'] = kmeans.fit_predict(X)  # Add cluster labels as a new feature\n",
    "\n",
    "nn_model = MLPRegressor(hidden_layer_sizes=(64, 32), max_iter=500, random_state=42)\n",
    "nn_model.fit(X_train, y_train)\n",
    "\n",
    "y_pred_nn = nn_model.predict(X_test)\n",
    "mse_nn = mean_squared_error(y_test, y_pred_nn)\n",
    "r2_nn = r2_score(y_test, y_pred_nn)\n",
    "\n",
    "print(\"\\nNeural Network Evaluation:\")\n",
    "print(f\"Mean Squared Error (MSE): {mse_nn:.2f}\")\n",
    "print(f\"R-squared (R²): {r2_nn:.4f}\")\n",
    "\n",
    "# Predict car price using the neural network\n",
    "def predict_price_nn(year, cylinders, mileage):\n",
    "    cluster = kmeans.predict([[year, cylinders, mileage]])[0]  # Predict cluster for the new car\n",
    "    new_car_nn = pd.DataFrame({\n",
    "        'year': [year],\n",
    "        'cylinders': [cylinders],\n",
    "        'odometer': [mileage],\n",
    "        'cluster': [cluster]\n",
    "    })\n",
    "    predicted_price_nn = nn_model.predict(new_car_nn)[0]\n",
    "    return predicted_price_nn\n",
    "\n",
    "# # Example usage\n",
    "# year = 2018\n",
    "# cylinders = 6\n",
    "# mileage = 85000\n",
    "# predicted_price_nn = predict_price_nn(year, cylinders, mileage)\n",
    "# print(f\"\\nPredicted price for a car with {mileage} miles, {cylinders} cylinders, from year {year}: ${predicted_price_nn:.2f}\")"
   ]
  },
  {
   "cell_type": "markdown",
   "metadata": {},
   "source": [
    "Plotting"
   ]
  },
  {
   "cell_type": "code",
   "execution_count": null,
   "metadata": {},
   "outputs": [],
   "source": [
    "# plt.figure(figsize=(10, 6))\n",
    "# plt.plot(results.index, results['Actual'], label='Actual Prices', color='blue', marker='o')\n",
    "# plt.plot(results.index, results['Predicted'], label='Predicted Prices', color='red', marker='x')\n",
    "# plt.title('Actual vs. Predicted Car Prices')\n",
    "# plt.xlabel('Index')\n",
    "# plt.ylabel('Price')\n",
    "# plt.legend()\n",
    "# plt.grid(True)\n",
    "\n",
    "# # Plot a scatter plot of actual vs. predicted prices\n",
    "# plt.figure(figsize=(10, 6))\n",
    "# plt.scatter(results['Actual'], results['Predicted'], alpha=0.5)\n",
    "# plt.plot([results['Actual'].min(), results['Actual'].max()],\n",
    "#          [results['Actual'].min(), results['Actual'].max()],\n",
    "#          'k--', lw=2)\n",
    "# plt.title('Actual vs. Predicted Car Prices')\n",
    "# plt.xlabel('Actual Prices')\n",
    "# plt.ylabel('Predicted Prices')\n",
    "# plt.grid(True)\n"
   ]
  }
 ],
 "metadata": {
  "colab": {
   "provenance": []
  },
  "kernelspec": {
   "display_name": ".venv",
   "language": "python",
   "name": "python3"
  },
  "language_info": {
   "codemirror_mode": {
    "name": "ipython",
    "version": 3
   },
   "file_extension": ".py",
   "mimetype": "text/x-python",
   "name": "python",
   "nbconvert_exporter": "python",
   "pygments_lexer": "ipython3",
   "version": "3.13.0"
  }
 },
 "nbformat": 4,
 "nbformat_minor": 0
}
