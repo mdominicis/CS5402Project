{
 "cells": [
  {
   "cell_type": "code",
   "execution_count": 17,
   "metadata": {
    "colab": {
     "base_uri": "https://localhost:8080/"
    },
    "collapsed": true,
    "id": "Ht69R1PgsdM8",
    "outputId": "cf36a6d7-dd70-4444-88b1-f5240b1df3ec"
   },
   "outputs": [],
   "source": [
    "import pandas as pd\n",
    "import numpy as np\n",
    "import matplotlib.pyplot as plt\n",
    "from sklearn.model_selection import train_test_split\n",
    "from sklearn.preprocessing import PolynomialFeatures\n",
    "from sklearn.linear_model import LinearRegression\n",
    "from sklearn.metrics import mean_squared_error, r2_score\n",
    "\n",
    "import kagglehub\n",
    "from kagglehub import KaggleDatasetAdapter\n",
    "from sklearn.model_selection import train_test_split\n",
    "from sklearn.preprocessing import StandardScaler\n",
    "from sklearn.impute import SimpleImputer\n",
    "\n",
    "from sklearn.tree import DecisionTreeRegressor"
   ]
  },
  {
   "cell_type": "code",
   "execution_count": 18,
   "metadata": {
    "colab": {
     "base_uri": "https://localhost:8080/"
    },
    "id": "ejZRtYz3HBRE",
    "outputId": "91f8051c-486a-42c6-f2de-bfa1a1c97913"
   },
   "outputs": [
    {
     "name": "stderr",
     "output_type": "stream",
     "text": [
      "/var/folders/s8/gtklhtj905s5w5st3lpb32mw0000gn/T/ipykernel_95054/494915325.py:4: DeprecationWarning: load_dataset is deprecated and will be removed in a future version.\n",
      "  df = kagglehub.load_dataset(\n"
     ]
    },
    {
     "name": "stdout",
     "output_type": "stream",
     "text": [
      "First 5 records:            id                                                url  \\\n",
      "0  7222695916  https://prescott.craigslist.org/cto/d/prescott...   \n",
      "1  7218891961  https://fayar.craigslist.org/ctd/d/bentonville...   \n",
      "2  7221797935  https://keys.craigslist.org/cto/d/summerland-k...   \n",
      "3  7222270760  https://worcester.craigslist.org/cto/d/west-br...   \n",
      "4  7210384030  https://greensboro.craigslist.org/cto/d/trinit...   \n",
      "\n",
      "                   region                         region_url  price  year  \\\n",
      "0                prescott    https://prescott.craigslist.org   6000   NaN   \n",
      "1            fayetteville       https://fayar.craigslist.org  11900   NaN   \n",
      "2            florida keys        https://keys.craigslist.org  21000   NaN   \n",
      "3  worcester / central MA   https://worcester.craigslist.org   1500   NaN   \n",
      "4              greensboro  https://greensboro.craigslist.org   4900   NaN   \n",
      "\n",
      "  manufacturer model condition cylinders  ... size  type paint_color  \\\n",
      "0          NaN   NaN       NaN       NaN  ...  NaN   NaN         NaN   \n",
      "1          NaN   NaN       NaN       NaN  ...  NaN   NaN         NaN   \n",
      "2          NaN   NaN       NaN       NaN  ...  NaN   NaN         NaN   \n",
      "3          NaN   NaN       NaN       NaN  ...  NaN   NaN         NaN   \n",
      "4          NaN   NaN       NaN       NaN  ...  NaN   NaN         NaN   \n",
      "\n",
      "  image_url description county state lat long posting_date  \n",
      "0       NaN         NaN    NaN    az NaN  NaN          NaN  \n",
      "1       NaN         NaN    NaN    ar NaN  NaN          NaN  \n",
      "2       NaN         NaN    NaN    fl NaN  NaN          NaN  \n",
      "3       NaN         NaN    NaN    ma NaN  NaN          NaN  \n",
      "4       NaN         NaN    NaN    nc NaN  NaN          NaN  \n",
      "\n",
      "[5 rows x 26 columns]\n"
     ]
    }
   ],
   "source": [
    "# Dataset Import\n",
    "file_path = \"vehicles.csv\"\n",
    "\n",
    "df = kagglehub.load_dataset(\n",
    "  KaggleDatasetAdapter.PANDAS,\n",
    "  \"austinreese/craigslist-carstrucks-data\",\n",
    "  file_path\n",
    ")\n",
    "\n",
    "print(\"First 5 records:\", df.head())"
   ]
  },
  {
   "cell_type": "code",
   "execution_count": 19,
   "metadata": {
    "id": "BE88secND8yN"
   },
   "outputs": [],
   "source": [
    "# Data Preprocessing\n",
    "df = df.dropna(subset=['price', 'cylinders', 'year', 'odometer']) # Remove all rows with null values in any of the four categories\n",
    "\n",
    "df = df[df['cylinders'] != \"other\"] # for some reason, some rows have a 'other' value for cylinders, so we shall remove these rows\n",
    "\n",
    "df['cylinders'] = df['cylinders'].str[0].astype(int) # convert \"8 cylinders\" to the value 8, and so on for every num of cylinders"
   ]
  },
  {
   "cell_type": "code",
   "execution_count": 20,
   "metadata": {},
   "outputs": [],
   "source": [
    "data = df[['price', 'year', 'odometer', 'cylinders']].copy()\n",
    "X = data[['year', 'odometer', 'cylinders']]\n",
    "y = data['price']\n",
    "X_train, X_test, y_train, y_test = train_test_split(\n",
    "    X, y, test_size=0.2, random_state=42\n",
    ")"
   ]
  },
  {
   "cell_type": "markdown",
   "metadata": {
    "id": "yTT6v0amGwya"
   },
   "source": [
    "Matthew's Linear Regression"
   ]
  },
  {
   "cell_type": "code",
   "execution_count": 21,
   "metadata": {
    "colab": {
     "base_uri": "https://localhost:8080/"
    },
    "id": "r50nxc7AGwiC",
    "outputId": "14c2e8ac-62fc-49b7-8b50-29ce3e425f18"
   },
   "outputs": [
    {
     "name": "stdout",
     "output_type": "stream",
     "text": [
      "R² score: -0.0000\n",
      "MSE:       594477277376181.75\n",
      "\n",
      "Intercept: -4938384.90\n",
      "Coefficients:\n",
      "year          2417.462725\n",
      "odometer        -0.017140\n",
      "cylinders    19610.846592\n",
      "dtype: float64\n"
     ]
    }
   ],
   "source": [
    "scaler = StandardScaler()\n",
    "X_scaled = scaler.fit_transform(X)\n",
    "\n",
    "# 5) Fit a simple linear regression\n",
    "model = LinearRegression()\n",
    "model.fit(X_train, y_train)\n",
    "\n",
    "# 6) Evaluate on the test set\n",
    "y_pred = model.predict(X_test)\n",
    "print(f\"R² score: {r2_score(y_test, y_pred):.4f}\")\n",
    "print(f\"MSE:       {mean_squared_error(y_test, y_pred):.2f}\\n\")\n",
    "\n",
    "# 7) Show learned parameters\n",
    "print(f\"Intercept: {model.intercept_:.2f}\")\n",
    "coef_df = pd.Series(model.coef_, index=X.columns)\n",
    "print(\"Coefficients:\")\n",
    "print(coef_df)"
   ]
  },
  {
   "cell_type": "markdown",
   "metadata": {
    "id": "feNx_QTbHHyz"
   },
   "source": [
    "Logan's Polynomial Regression"
   ]
  },
  {
   "cell_type": "code",
   "execution_count": 22,
   "metadata": {
    "colab": {
     "base_uri": "https://localhost:8080/",
     "height": 1000
    },
    "id": "oK3O7kIPOU3T",
    "outputId": "730d9891-642e-4029-b805-02c8cc8d476a"
   },
   "outputs": [
    {
     "name": "stdout",
     "output_type": "stream",
     "text": [
      "\n",
      "Polynomial feature names:\n",
      "['year' 'odometer' 'cylinders' 'year^2' 'year odometer' 'year cylinders'\n",
      " 'odometer^2' 'odometer cylinders' 'cylinders^2']\n",
      "\n",
      "Model coefficients:\n",
      "year: 0.0001\n",
      "odometer: 2.0232\n",
      "cylinders: 0.0053\n",
      "year^2: 0.5548\n",
      "year odometer: -0.0010\n",
      "year cylinders: 10.6700\n",
      "odometer^2: 0.0000\n",
      "odometer cylinders: -0.0169\n",
      "cylinders^2: 0.0618\n",
      "Intercept: -2317892.0516\n",
      "\n",
      "Model Evaluation:\n",
      "Mean Squared Error (MSE): 594480923766981.12\n",
      "Root Mean Squared Error (RMSE): 24381979.49\n",
      "R-squared (R²): -0.0000\n"
     ]
    }
   ],
   "source": [
    "# valuable LABELS: price, year, manufacturer, model, condition, cylinders, fuel, odometer,\n",
    "#                  title_status, transmission, drive, size, type, paint_color, posting_date\n",
    "\n",
    "# for now, use only the numerical ones:\n",
    "#     price, year, cylinders, odometer\n",
    "\n",
    "\n",
    "# Create polynomial features (degree=2)\n",
    "poly = PolynomialFeatures(degree=2, include_bias=False)\n",
    "\n",
    "# Transform the features\n",
    "X_train_poly = poly.fit_transform(X_train)\n",
    "X_test_poly = poly.transform(X_test)\n",
    "\n",
    "# Display the new feature names\n",
    "feature_names = poly.get_feature_names_out(X.columns)\n",
    "print(\"\\nPolynomial feature names:\")\n",
    "print(feature_names)\n",
    "\n",
    "# Create and train the polynomial regression model\n",
    "poly_reg = LinearRegression()\n",
    "poly_reg.fit(X_train_poly, y_train)\n",
    "\n",
    "# Display the coefficients\n",
    "print(\"\\nModel coefficients:\")\n",
    "for i, coef in enumerate(poly_reg.coef_):\n",
    "    print(f\"{feature_names[i]}: {coef:.4f}\")\n",
    "print(f\"Intercept: {poly_reg.intercept_:.4f}\")\n",
    "\n",
    "# Make predictions on the test set\n",
    "y_pred = poly_reg.predict(X_test_poly)\n",
    "\n",
    "# Evaluate the model\n",
    "mse = mean_squared_error(y_test, y_pred)\n",
    "rmse = np.sqrt(mse)\n",
    "r2 = r2_score(y_test, y_pred)\n",
    "\n",
    "print(\"\\nModel Evaluation:\")\n",
    "print(f\"Mean Squared Error (MSE): {mse:.2f}\")\n",
    "print(f\"Root Mean Squared Error (RMSE): {rmse:.2f}\")\n",
    "print(f\"R-squared (R²): {r2:.4f}\")\n",
    "\n",
    "# Create a DataFrame with actual and predicted prices\n",
    "results = pd.DataFrame({\n",
    "    'Actual': y_test,\n",
    "    'Predicted': y_pred\n",
    "})\n",
    "\n",
    "# Sort by actual price for better visualization\n",
    "results = results.sort_values(by='Actual')\n",
    "\n",
    "# Reset index\n",
    "results = results.reset_index(drop=True)\n",
    "\n",
    "def predict_car_price(year, cylinders, mileage):\n",
    "    # Create a DataFrame with the new car's features\n",
    "    new_car = pd.DataFrame({\n",
    "        'year': [year],\n",
    "        'cylinders': [cylinders],\n",
    "        'odometer': [mileage]\n",
    "    })\n",
    "\n",
    "    # Transform the features to polynomial features\n",
    "    new_car_poly = poly.transform(new_car)\n",
    "\n",
    "    # Predict the price\n",
    "    predicted_price = poly_reg.predict(new_car_poly)[0]\n",
    "\n",
    "    return predicted_price\n"
   ]
  },
  {
   "cell_type": "markdown",
   "metadata": {
    "id": "b9nPDHtWF05v"
   },
   "source": [
    "Dheeraj's Decision tree model:\n"
   ]
  },
  {
   "cell_type": "code",
   "execution_count": 23,
   "metadata": {
    "id": "Xxk7eF_0F0JD",
    "jupyter": {
     "is_executing": true
    }
   },
   "outputs": [
    {
     "name": "stdout",
     "output_type": "stream",
     "text": [
      "Mean Squared Error: 594677716317001.5\n",
      "R² Score: -0.00037773793882611706\n"
     ]
    }
   ],
   "source": [
    "model = DecisionTreeRegressor(random_state=42)\n",
    "model.fit(X_train, y_train)\n",
    "\n",
    "y_pred = model.predict(X_test)\n",
    "print(\"Mean Squared Error:\", mean_squared_error(y_test, y_pred))\n",
    "print(\"R² Score:\", r2_score(y_test, y_pred))"
   ]
  },
  {
   "cell_type": "markdown",
   "metadata": {
    "id": "ZrSjEjT1QHOz"
   },
   "source": [
    "everett's neural network"
   ]
  },
  {
   "cell_type": "code",
   "execution_count": null,
   "metadata": {
    "id": "zYCoRK5xQOtN"
   },
   "outputs": [],
   "source": []
  },
  {
   "cell_type": "code",
   "execution_count": null,
   "metadata": {},
   "outputs": [
    {
     "data": {
      "image/png": "[encoded data removed]",
      "text/plain": [
       "<Figure size 1000x600 with 1 Axes>"
      ]
     },
     "metadata": {},
     "output_type": "display_data"
    },
    {
     "data": {
      "image/png": "[encoded data removed]",
      "text/plain": [
       "<Figure size 1000x600 with 1 Axes>"
      ]
     },
     "metadata": {},
     "output_type": "display_data"
    }
   ],
   "source": [
    "plt.figure(figsize=(10, 6))\n",
    "plt.plot(results.index, results['Actual'], label='Actual Prices', color='blue', marker='o')\n",
    "plt.plot(results.index, results['Predicted'], label='Predicted Prices', color='red', marker='x')\n",
    "plt.title('Actual vs. Predicted Car Prices')\n",
    "plt.xlabel('Index')\n",
    "plt.ylabel('Price')\n",
    "plt.legend()\n",
    "plt.grid(True)\n",
    "\n",
    "# Plot a scatter plot of actual vs. predicted prices\n",
    "plt.figure(figsize=(10, 6))\n",
    "plt.scatter(results['Actual'], results['Predicted'], alpha=0.5)\n",
    "plt.plot([results['Actual'].min(), results['Actual'].max()],\n",
    "         [results['Actual'].min(), results['Actual'].max()],\n",
    "         'k--', lw=2)\n",
    "plt.title('Actual vs. Predicted Car Prices')\n",
    "plt.xlabel('Actual Prices')\n",
    "plt.ylabel('Predicted Prices')\n",
    "plt.grid(True)\n"
   ]
  }
 ],
 "metadata": {
  "colab": {
   "provenance": []
  },
  "kernelspec": {
   "display_name": ".venv",
   "language": "python",
   "name": "python3"
  },
  "language_info": {
   "codemirror_mode": {
    "name": "ipython",
    "version": 3
   },
   "file_extension": ".py",
   "mimetype": "text/x-python",
   "name": "python",
   "nbconvert_exporter": "python",
   "pygments_lexer": "ipython3",
   "version": "3.13.0"
  }
 },
 "nbformat": 4,
 "nbformat_minor": 0
}
